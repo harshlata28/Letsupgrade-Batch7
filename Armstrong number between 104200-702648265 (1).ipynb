{
 "cells": [
  {
   "cell_type": "code",
   "execution_count": 2,
   "metadata": {},
   "outputs": [
    {
     "name": "stdout",
     "output_type": "stream",
     "text": [
      "  The first Armstrong number is 548834\n"
     ]
    }
   ],
   "source": [
    "start = 104200\n",
    "end = 702648265\n",
    "\n",
    "for arm1 in range (start, end +1):\n",
    "    \n",
    "    exp = len(str(arm1))\n",
    "    num_sum = 0\n",
    "    \n",
    "    \n",
    "    c = arm1\n",
    "    while c > 0:\n",
    "        num = c % 10\n",
    "        num_sum += num ** exp\n",
    "        c //=10\n",
    "        \n",
    "        if arm1 != num_sum:\n",
    "            continue\n",
    "        \n",
    "        \n",
    "    else :\n",
    "        if arm1 == num_sum:\n",
    "            print(\"  The first Armstrong number is\", arm1)\n",
    "            \n",
    "            break"
   ]
  },
  {
   "cell_type": "code",
   "execution_count": null,
   "metadata": {},
   "outputs": [],
   "source": []
  }
 ],
 "metadata": {
  "kernelspec": {
   "display_name": "Python 3",
   "language": "python",
   "name": "python3"
  },
  "language_info": {
   "codemirror_mode": {
    "name": "ipython",
    "version": 3
   },
   "file_extension": ".py",
   "mimetype": "text/x-python",
   "name": "python",
   "nbconvert_exporter": "python",
   "pygments_lexer": "ipython3",
   "version": "3.7.6"
  }
 },
 "nbformat": 4,
 "nbformat_minor": 4
}
