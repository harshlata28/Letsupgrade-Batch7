{
 "cells": [
  {
   "cell_type": "code",
   "execution_count": null,
   "metadata": {},
   "outputs": [],
   "source": [
    "class MyException(Exception):\n",
    "    \n",
    "    pass\n",
    "\n",
    "class NoWriteException(MyException):\n",
    "    def __init__(self):\n",
    "        print(\"Cannot be written\") \n",
    "        \n",
    "try:\n",
    "    \n",
    "    f1 = open(file = r\"notebooks/Untitled21.ipynb?kernel_name=python3#\" , mode = \"r\")\n",
    "    print(\"readable =? \",f1.readable())\n",
    "    output = f1.read()\n",
    "    print( \"File contents are :\", output)\n",
    "    \n",
    "    try:\n",
    "        \n",
    "        if f1.mode == 'r':\n",
    "            f1 = open(filer1=r\"notebooks/Untitled21.ipynb?kernel_name=python3#\" , mode = \"w\")\n",
    "            raise NowriteException\n",
    "            \n",
    "        else:\n",
    "            print (\"file can be read only\")"
   ]
  }
 ],
 "metadata": {
  "kernelspec": {
   "display_name": "Python 3",
   "language": "python",
   "name": "python3"
  },
  "language_info": {
   "codemirror_mode": {
    "name": "ipython",
    "version": 3
   },
   "file_extension": ".py",
   "mimetype": "text/x-python",
   "name": "python",
   "nbconvert_exporter": "python",
   "pygments_lexer": "ipython3",
   "version": "3.7.6"
  }
 },
 "nbformat": 4,
 "nbformat_minor": 4
}
