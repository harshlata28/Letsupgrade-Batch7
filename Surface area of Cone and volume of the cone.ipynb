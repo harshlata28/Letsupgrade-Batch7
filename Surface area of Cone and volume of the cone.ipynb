{
 "cells": [
  {
   "cell_type": "code",
   "execution_count": 3,
   "metadata": {},
   "outputs": [
    {
     "name": "stdout",
     "output_type": "stream",
     "text": [
      "Volume Of Cone :  340.3392041388942\n",
      "Surface Area Of Cone :  267.0353755551324\n"
     ]
    }
   ],
   "source": [
    "#Surface area of Cone and volume of the cone'''\n",
    "  \n",
    "import math \n",
    "pi = math.pi \n",
    "  \n",
    "def volume(radius, height): \n",
    "    return (1 / 3) * pi * radius * radius * height\n",
    "  \n",
    "\n",
    "def surfacearea(radius, s): \n",
    "    return pi * radius * s + pi * radius * radius \n",
    "  \n",
    "\n",
    "radius = float(5) \n",
    "height = float(13) \n",
    "slant_height = float(12) \n",
    "print( \"Volume Of Cone : \", volume(radius, height) ) \n",
    "print( \"Surface Area Of Cone : \", surfacearea(radius, slant_height) )"
   ]
  },
  {
   "cell_type": "code",
   "execution_count": null,
   "metadata": {},
   "outputs": [],
   "source": []
  }
 ],
 "metadata": {
  "kernelspec": {
   "display_name": "Python 3",
   "language": "python",
   "name": "python3"
  },
  "language_info": {
   "codemirror_mode": {
    "name": "ipython",
    "version": 3
   },
   "file_extension": ".py",
   "mimetype": "text/x-python",
   "name": "python",
   "nbconvert_exporter": "python",
   "pygments_lexer": "ipython3",
   "version": "3.7.6"
  }
 },
 "nbformat": 4,
 "nbformat_minor": 4
}
