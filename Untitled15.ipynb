{
 "cells": [
  {
   "cell_type": "code",
   "execution_count": 1,
   "metadata": {},
   "outputs": [
    {
     "name": "stdout",
     "output_type": "stream",
     "text": [
      "\n",
      " Length of a Side (Slant)of a Cone = 11.66\n",
      " The Surface Area of a Cone = 332.92 \n",
      " The Volume of a Cone = 376.99\n",
      " The Lateral Surface Area of a Cone = 219.82 \n"
     ]
    }
   ],
   "source": [
    "# Python Program to find Volume and Surface Area of a Cone using functions\n",
    "\n",
    "import math\n",
    "\n",
    "def Vol_Sa_Cone(radius, height):\n",
    "    # Calculate Length of a Slide (Slant)\n",
    "    l = math.sqrt(radius * radius + height * height)\n",
    "\n",
    "    # Calculate the Surface Area\n",
    "    SA = math.pi * radius * (radius + l)\n",
    "\n",
    "    # Calculate the Volume\n",
    "    Volume = (1.0/3) * math.pi * radius * radius * height\n",
    "\n",
    "    # Calculate the Lateral Surface Area\n",
    "    LSA = math.pi * radius  * l\n",
    "\n",
    "    print(\"\\n Length of a Side (Slant)of a Cone = %.2f\" %l)\n",
    "    print(\" The Surface Area of a Cone = %.2f \" %SA)\n",
    "    print(\" The Volume of a Cone = %.2f\" %Volume)\n",
    "    print(\" The Lateral Surface Area of a Cone = %.2f \" %LSA)\n",
    "\n",
    "Vo_Sa_Cone(6,10)"
   ]
  },
  {
   "cell_type": "code",
   "execution_count": 2,
   "metadata": {},
   "outputs": [
    {
     "name": "stdout",
     "output_type": "stream",
     "text": [
      "\n",
      " Length of a Side (Slant)of a Cone = 13.45\n",
      " The Surface Area of a Cone = 634.86 \n",
      " The Volume of a Cone = 848.23\n",
      " The Lateral Surface Area of a Cone = 380.39 \n"
     ]
    }
   ],
   "source": [
    "Vo_Sa_Cone(9,10)"
   ]
  },
  {
   "cell_type": "code",
   "execution_count": 6,
   "metadata": {},
   "outputs": [
    {
     "name": "stdout",
     "output_type": "stream",
     "text": [
      "Volume Of Cone :  340.3392041388942\n",
      "Surface Area Of Cone :  267.0353755551324\n"
     ]
    }
   ],
   "source": [
    "\n",
    "''' Python3 program to calculate Volume and  \n",
    "    Surface area of Cone'''\n",
    "  \n",
    "import math \n",
    "pi = math.pi \n",
    "  \n",
    "def volume(radius, height): \n",
    "    return (1 / 3) * pi * radius * radius * height\n",
    "  \n",
    "# Function To Calculate Surface Area of Cone \n",
    "def surfacearea(radius, s): \n",
    "    return pi * radius * s + pi * radius * radius \n",
    "  \n",
    "# Driver Code \n",
    "radius = float(5) \n",
    "height = float(13) \n",
    "slat_height = float(12) \n",
    "print( \"Volume Of Cone : \", volume(radius, height) ) \n",
    "print( \"Surface Area Of Cone : \", surfacearea(radius, slant_height) )"
   ]
  },
  {
   "cell_type": "code",
   "execution_count": null,
   "metadata": {},
   "outputs": [],
   "source": []
  }
 ],
 "metadata": {
  "kernelspec": {
   "display_name": "Python 3",
   "language": "python",
   "name": "python3"
  },
  "language_info": {
   "codemirror_mode": {
    "name": "ipython",
    "version": 3
   },
   "file_extension": ".py",
   "mimetype": "text/x-python",
   "name": "python",
   "nbconvert_exporter": "python",
   "pygments_lexer": "ipython3",
   "version": "3.7.6"
  }
 },
 "nbformat": 4,
 "nbformat_minor": 4
}
