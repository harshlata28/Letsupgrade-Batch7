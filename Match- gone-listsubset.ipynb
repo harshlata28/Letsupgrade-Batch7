{
 "cells": [
  {
   "cell_type": "code",
   "execution_count": 1,
   "metadata": {},
   "outputs": [
    {
     "name": "stdout",
     "output_type": "stream",
     "text": [
      "Org list:[1, 3, 5, 7, 9, 11, 13]\n",
      "Org list:[5, 7, 9]\n",
      "Match\n"
     ]
    }
   ],
   "source": [
    "\n",
    "list1 =[1,3,5,7,9,11,13]\n",
    "list2 =[5,7,9]\n",
    "\n",
    "print(\"Org list:\" +str(list1))\n",
    "print(\"Org list:\" +str(list2))\n",
    "f = 0\n",
    "if(set(list2).issubset(set(list1))):\n",
    "    f = 1\n",
    "if(f):\n",
    "    print(\"Match\")\n",
    "else:\n",
    "    print(\"GONE\")\n"
   ]
  },
  {
   "cell_type": "code",
   "execution_count": null,
   "metadata": {},
   "outputs": [],
   "source": []
  }
 ],
 "metadata": {
  "kernelspec": {
   "display_name": "Python 3",
   "language": "python",
   "name": "python3"
  },
  "language_info": {
   "codemirror_mode": {
    "name": "ipython",
    "version": 3
   },
   "file_extension": ".py",
   "mimetype": "text/x-python",
   "name": "python",
   "nbconvert_exporter": "python",
   "pygments_lexer": "ipython3",
   "version": "3.7.6"
  }
 },
 "nbformat": 4,
 "nbformat_minor": 4
}
