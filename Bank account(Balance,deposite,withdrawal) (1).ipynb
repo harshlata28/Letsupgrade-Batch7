{
 "cells": [
  {
   "cell_type": "code",
   "execution_count": null,
   "metadata": {},
   "outputs": [
    {
     "name": "stdout",
     "output_type": "stream",
     "text": [
      "Enter amount to deposite = 70000\n",
      " THe deposited amount is = \n",
      "Sorry customer ,maximum deposite allowed is 700000\n",
      "Please enter total amount in yout account50000\n",
      "Please Enter the amount to withdraw2000\n",
      "Congratulations customer, amount withdrawn succesfully\n",
      "Enter amount to deposite = 3000\n",
      " THe deposited amount is = \n",
      "Sorry customer ,maximum deposite allowed is 700000\n"
     ]
    }
   ],
   "source": [
    "class Bank_Account:\n",
    "    def __init__ (self,Name,Balance,Withdraw):\n",
    "        self.Name = Name\n",
    "        self.Balance = Balance\n",
    "        self.Withdraw = Withdraw\n",
    "        \n",
    "    def deposite(self):\n",
    "        dep = input(\"Enter amount to deposite = \")\n",
    "        print (\" THe deposited amount is = \")\n",
    "        \n",
    "        if dep > '1000000':\n",
    "            print(\"Sorry customer ,maximum deposite allowed is 700000\")\n",
    "        else:\n",
    "            print(\"Congratulations , Amount deposited successfully\")\n",
    "            \n",
    "    def withdrawal(self):\n",
    "        Amount = self.Balance\n",
    "        Balance = int(input(\"Please enter total amount in yout account\"))\n",
    "        Withdraw = int(input(\"Please Enter the amount to withdraw\"))\n",
    "        \n",
    "        if Withdraw < Balance:\n",
    "            print ( \"Congratulations customer, amount withdrawn succesfully\")\n",
    "        else:\n",
    "            print (\"Sorry customer, you can not withdraw as value is more than available balance\")\n",
    "            \n",
    "obj = Bank_Account('harsha', 0 ,0)\n",
    "\n",
    "obj.deposite()\n",
    "\n",
    "obj.withdrawal()\n",
    "\n",
    "obj1 = Bank_Account('nimm', 0 ,0)\n",
    "\n",
    "obj1.deposite()\n",
    "\n",
    "obj1.withdrawal()\n",
    "\n",
    "obj2 = Bank_Account('nil', 0 ,0)\n",
    "\n",
    "\n",
    "obj2.deposite()\n",
    "\n",
    "obj2.withdrawal()\n",
    "        "
   ]
  },
  {
   "cell_type": "code",
   "execution_count": null,
   "metadata": {},
   "outputs": [],
   "source": []
  }
 ],
 "metadata": {
  "kernelspec": {
   "display_name": "Python 3",
   "language": "python",
   "name": "python3"
  },
  "language_info": {
   "codemirror_mode": {
    "name": "ipython",
    "version": 3
   },
   "file_extension": ".py",
   "mimetype": "text/x-python",
   "name": "python",
   "nbconvert_exporter": "python",
   "pygments_lexer": "ipython3",
   "version": "3.7.6"
  }
 },
 "nbformat": 4,
 "nbformat_minor": 4
}
