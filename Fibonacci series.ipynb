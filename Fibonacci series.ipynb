{
 "cells": [
  {
   "cell_type": "code",
   "execution_count": 3,
   "metadata": {},
   "outputs": [
    {
     "name": "stdout",
     "output_type": "stream",
     "text": [
      "hello ,this is before function exexcution\n",
      "this is inside the function\n",
      "Enter the value of 'n': 20\n",
      "Fibonacci Series : 0 1 1 2 3 5 8 13 21 34 55 89 144 233 377 610 987 1597 2584 4181 This is after function excecution\n"
     ]
    }
   ],
   "source": [
    "def hello_decorator(func):\n",
    "    def in1():\n",
    "        print(\"hello ,this is before function exexcution\")\n",
    "        \n",
    "        func()\n",
    "        \n",
    "        i = int(input(\"Enter the value of 'n': \"))\n",
    "        \n",
    "        x = 0\n",
    "        y = 1\n",
    "        \n",
    "        sum = 0\n",
    "        count = 1 \n",
    "        \n",
    "        print (\"Fibonacci Series :\" ,end = \" \" )\n",
    "        while (count <= i):\n",
    "            print (sum, end = \" \" )\n",
    "            count += 1\n",
    "            x = y\n",
    "            y = sum\n",
    "            \n",
    "            sum = x + y\n",
    "        print (\"This is after function excecution\")\n",
    "    return in1\n",
    "\n",
    "def fibonacci():\n",
    "    print(\"this is inside the function\")\n",
    "    \n",
    "fibonacci = hello_decorator(fibonacci)\n",
    "fibonacci ()\n",
    "            "
   ]
  },
  {
   "cell_type": "code",
   "execution_count": null,
   "metadata": {},
   "outputs": [],
   "source": []
  }
 ],
 "metadata": {
  "kernelspec": {
   "display_name": "Python 3",
   "language": "python",
   "name": "python3"
  },
  "language_info": {
   "codemirror_mode": {
    "name": "ipython",
    "version": 3
   },
   "file_extension": ".py",
   "mimetype": "text/x-python",
   "name": "python",
   "nbconvert_exporter": "python",
   "pygments_lexer": "ipython3",
   "version": "3.7.6"
  }
 },
 "nbformat": 4,
 "nbformat_minor": 4
}
