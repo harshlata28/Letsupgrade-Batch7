{
 "cells": [
  {
   "cell_type": "code",
   "execution_count": 12,
   "metadata": {},
   "outputs": [
    {
     "name": "stdout",
     "output_type": "stream",
     "text": [
      "After Capitalising string: Python Essential Batch\n",
      "Before mapping: [' i an harsha h', 'i am from nagpur', 'i have completed my m.e', 'currently attending pythom essesntial program of letsupgrade']\n",
      "After mapping: [' I An Harsha H', 'I Am From Nagpur', 'I Have Completed My M.E', 'Currently Attending Pythom Essesntial Program Of Letsupgrade']\n"
     ]
    }
   ],
   "source": [
    "#def capitalize(str):\n",
    "    #str = \"python essential batch!\"\n",
    "    #str1 = str.title()\n",
    "    #print(str1)\n",
    "    #capitalize(str)\n",
    "\n",
    "capitalize_lambda = lambda str: str.title()\n",
    "\n",
    "print (\"After Capitalising string:\", capitalize_lambda(\"python essential batch\"))\n",
    "\n",
    "list1 = [\" i an harsha h\", \"i am from nagpur\", \"i have completed my m.e\",\"currently attending pythom essesntial program of letsupgrade\"]\n",
    "print (\"Before mapping:\" ,list(list1))\n",
    "\n",
    "list2 = map(lambda str: str.title(),list1)\n",
    "\n",
    "print(\"After mapping:\", list(list2))"
   ]
  },
  {
   "cell_type": "code",
   "execution_count": null,
   "metadata": {},
   "outputs": [],
   "source": []
  }
 ],
 "metadata": {
  "kernelspec": {
   "display_name": "Python 3",
   "language": "python",
   "name": "python3"
  },
  "language_info": {
   "codemirror_mode": {
    "name": "ipython",
    "version": 3
   },
   "file_extension": ".py",
   "mimetype": "text/x-python",
   "name": "python",
   "nbconvert_exporter": "python",
   "pygments_lexer": "ipython3",
   "version": "3.7.6"
  }
 },
 "nbformat": 4,
 "nbformat_minor": 4
}
